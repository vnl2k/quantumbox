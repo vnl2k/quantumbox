{
 "cells": [
  {
   "cell_type": "markdown",
   "metadata": {},
   "source": [
    "Before you begin, execute this cell to import numpy and packages from the D-Wave Ocean suite, and all necessary functions for the gate-model framework you are going to use, whether that is the Forest SDK or Qiskit. In the case of Forest SDK, it also starts the qvm and quilc servers."
   ]
  },
  {
   "cell_type": "code",
   "execution_count": 1,
   "metadata": {
    "deletable": false,
    "editable": false,
    "nbgrader": {
     "grade": false,
     "locked": true,
     "solution": false
    }
   },
   "outputs": [
    {
     "name": "stdout",
     "output_type": "stream",
     "text": [
      "Available frameworks:\n",
      "Qiskit\n",
      "D-Wave Ocean\n"
     ]
    }
   ],
   "source": [
    "%run -i \"assignment_helper.py\"\n",
    "%matplotlib inline"
   ]
  },
  {
   "cell_type": "code",
   "execution_count": 2,
   "metadata": {},
   "outputs": [],
   "source": [
    "import numpy as np"
   ]
  },
  {
   "cell_type": "markdown",
   "metadata": {},
   "source": [
    "# Classical probability distributions\n",
    "\n",
    "**Exercise 1** (1 point). Recall that in classical con flipping, get heads with probability $P(X=0) = p_0$ and tails with $P(X=1) = p_1$ for each toss of the coin, where $p_i\\geq 0$ for all $i$, and the probabilities sum to one: $\\sum_i p_i = 1$. Create a sample with a 1000 data points using numpy, with a probability of getting tails being 0.3. This is the parameter that the `binomial` function takes. Store the outcome in an array called `x_data`."
   ]
  },
  {
   "cell_type": "code",
   "execution_count": 3,
   "metadata": {
    "ExecuteTime": {
     "end_time": "2018-11-19T19:47:57.736024Z",
     "start_time": "2018-11-19T19:47:57.668891Z"
    }
   },
   "outputs": [],
   "source": [
    "n_samples = 1000\n",
    "p_1 = 0.3\n",
    "x_data = np.random.binomial(1, 0.3, 1000)"
   ]
  },
  {
   "cell_type": "code",
   "execution_count": 4,
   "metadata": {
    "deletable": false,
    "editable": false,
    "nbgrader": {
     "grade": true,
     "grade_id": "exercise1",
     "locked": true,
     "points": "1",
     "solution": false
    }
   },
   "outputs": [],
   "source": [
    "assert isinstance(x_data, np.ndarray)\n",
    "assert abs(p_1-x_data.sum()/n_samples) < 0.05"
   ]
  },
  {
   "cell_type": "markdown",
   "metadata": {},
   "source": [
    "**Exercise 2** (1 point). As you recall, we may also write the probability distribution as a stochastic vector $\\vec{p} = \\begin{bmatrix} p_0 \\\\ p_1 \\end{bmatrix}$. The normalization constraint on the probability distribution says that the norm of the vector is restricted to one in the $l_1$ norm. In other words, $||\\vec{p}||_1 = \\sum_i |p_i| = 1$. This would be the unit circle in the $l_1$ norm, but since $p_i\\geq 0$, we are restricted to a quarter of the unit circle, just as we plotted above. Write a function that checks whether a given two-dimensional vector is a stochastic vector. That is, it should return `True` if all elements are positive and the 1-norm is approximately one, and it should return `False` otherwise. The input of the function is a numpy array."
   ]
  },
  {
   "cell_type": "code",
   "execution_count": 5,
   "metadata": {
    "ExecuteTime": {
     "end_time": "2018-11-19T19:47:58.267761Z",
     "start_time": "2018-11-19T19:47:58.257885Z"
    }
   },
   "outputs": [],
   "source": [
    "def is_stochastic_vector(p: np.array):\n",
    "    return all(i > 0 for i in p) and p.sum() == 1.0\n"
   ]
  },
  {
   "cell_type": "code",
   "execution_count": 6,
   "metadata": {
    "deletable": false,
    "editable": false,
    "nbgrader": {
     "grade": true,
     "grade_id": "exercise2",
     "locked": true,
     "points": "1",
     "solution": false
    }
   },
   "outputs": [],
   "source": [
    "assert not is_stochastic_vector(np.array([0.2, 0.3]))\n",
    "assert not is_stochastic_vector(np.array([-0.2, 0.7]))\n",
    "assert is_stochastic_vector(np.array([0.2, 0.8]))"
   ]
  },
  {
   "cell_type": "markdown",
   "metadata": {},
   "source": [
    "**Exercise 3** (1 point). The probability of heads is just the first element in the $\\vec{p}$ and we can use a projection to extract it. For the first element of the stochastic vector, the projection is described by the matrix $\\begin{bmatrix} 1 & 0\\\\0 & 0\\end{bmatrix}$. Write a function that performs this projection on a two-element vector described by a numpy array. Your output after the projection is also a two-element vector."
   ]
  },
  {
   "cell_type": "code",
   "execution_count": 7,
   "metadata": {
    "ExecuteTime": {
     "end_time": "2018-11-19T19:47:58.296678Z",
     "start_time": "2018-11-19T19:47:58.272116Z"
    }
   },
   "outputs": [],
   "source": [
    "def project_to_first_basis_vector(p: np.array):\n",
    "    return p * np.matrix([[1., 0.], [0., 0.]])\n"
   ]
  },
  {
   "cell_type": "code",
   "execution_count": 8,
   "metadata": {
    "deletable": false,
    "editable": false,
    "nbgrader": {
     "grade": true,
     "grade_id": "exercise3",
     "locked": true,
     "points": "1",
     "solution": false
    }
   },
   "outputs": [],
   "source": [
    "assert np.alltrue(project_to_first_basis_vector(np.array([0.2, 0.3])) == np.array([0.2, 0.]))\n",
    "assert np.alltrue(project_to_first_basis_vector(np.array([1., 0.])) == np.array([1., 0.]))"
   ]
  },
  {
   "cell_type": "markdown",
   "metadata": {},
   "source": [
    "**Exercise 4** (1 point). The projection operators introduce some linear algebra to working with probability distributions. We can also use linear algebra to transform one probability distribution to another. A left *stochastic matrix* will map stochastic vectors to stochastic vectors when multiplied from the left: its columns add up to one. Write a function that takes a matrix and a vector as input arguments (both are numpy arrays), checks whether the vector is a stochastic vector and whether the matrix is left stochastic. If they are, return the matrix applied to the vector, otherwise raise a `ValueError`. You can call the function `is_stochastic_vector` that you defined above."
   ]
  },
  {
   "cell_type": "code",
   "execution_count": 9,
   "metadata": {},
   "outputs": [],
   "source": [
    "def is_2D_matrix_stochastic(M: np.matrix):\n",
    "    # checks the columns add up to 1\n",
    "    return all(i == 1. for i in M.sum(axis=0).tolist()[0])\n",
    "    \n",
    "def apply_stochastic_matrix(p: np.array, M: np.array):\n",
    "    \"\"\"Apply the matrix M to the vector p, but only if\n",
    "    p is a stochastic vector and M is a left stochastic\n",
    "    matrix. Otherwise raise a ValueError.\n",
    "    \"\"\"\n",
    "    M = np.matrix(M)\n",
    "    # print(M.sum(axis=0).tolist()[0] )\n",
    "    if is_stochastic_vector(p) and is_2D_matrix_stochastic(M):\n",
    "        return M * p\n",
    "    else:\n",
    "        raise ValueError('wrong inputs')"
   ]
  },
  {
   "cell_type": "code",
   "execution_count": 10,
   "metadata": {
    "deletable": false,
    "editable": false,
    "nbgrader": {
     "grade": true,
     "grade_id": "exercise4",
     "locked": true,
     "points": "1",
     "solution": false
    }
   },
   "outputs": [],
   "source": [
    "p = np.array([[.5], [.5]])\n",
    "M = np.array([[0.7, 0.6], [0.3, 0.4]])\n",
    "assert abs(np.linalg.norm(apply_stochastic_matrix(p, M), ord=1)-1) < 0.01\n",
    "M = np.array([[0.7, 0.6], [0.3, 0.5]])\n",
    "try:\n",
    "    apply_stochastic_matrix(p, M)\n",
    "except ValueError:\n",
    "    pass\n",
    "else:\n",
    "    raise AssertionError(\"did not raise\")"
   ]
  },
  {
   "cell_type": "markdown",
   "metadata": {},
   "source": [
    "**Exercise 5** (1 point). Create a left stochastic matrix in a variable called `M` that transforms the uniform distribution $\\vec{p}= \\begin{bmatrix} 0.5 \\\\ 0.5 \\end{bmatrix}$ to $\\begin{bmatrix} 0.6 \\\\ 0.4 \\end{bmatrix}$. `M` should be a two-dimensional numpy array."
   ]
  },
  {
   "cell_type": "code",
   "execution_count": 11,
   "metadata": {},
   "outputs": [],
   "source": [
    "M = np.array([[0.6, 0.6], [0.4, 0.4]])"
   ]
  },
  {
   "cell_type": "code",
   "execution_count": 12,
   "metadata": {
    "ExecuteTime": {
     "end_time": "2018-11-19T19:47:58.829415Z",
     "start_time": "2018-11-19T19:47:58.337314Z"
    },
    "deletable": false,
    "editable": false,
    "nbgrader": {
     "grade": true,
     "grade_id": "exercise5",
     "locked": true,
     "points": "1",
     "solution": false
    }
   },
   "outputs": [],
   "source": [
    "assert np.allclose(M.dot(np.array([0.5, 0.5])), np.array([0.6, 0.4]))"
   ]
  },
  {
   "cell_type": "markdown",
   "metadata": {},
   "source": [
    "**Exercise 6** (1 point). Calculate the entropy of this distribution $\\begin{bmatrix} 0.6 \\\\ 0.4 \\end{bmatrix}$ in a variable called `S`."
   ]
  },
  {
   "cell_type": "code",
   "execution_count": 13,
   "metadata": {},
   "outputs": [
    {
     "name": "stdout",
     "output_type": "stream",
     "text": [
      "0.9709505944546686\n"
     ]
    }
   ],
   "source": [
    "p_0 = 0.6\n",
    "p_1 = 0.4\n",
    "S = -(p_0*np.log2(p_0) + p_1*np.log2(p_1))\n",
    "print(S)"
   ]
  },
  {
   "cell_type": "code",
   "execution_count": 14,
   "metadata": {
    "deletable": false,
    "editable": false,
    "nbgrader": {
     "grade": true,
     "grade_id": "exercise6",
     "locked": true,
     "points": "1",
     "solution": false
    }
   },
   "outputs": [],
   "source": [
    "###\n",
    "### AUTOGRADER TEST - DO NOT REMOVE\n",
    "###\n"
   ]
  },
  {
   "cell_type": "markdown",
   "metadata": {},
   "source": [
    "# Quantum states\n",
    "\n",
    "**Exercise 7** (1 point). A quantum state is a probability distribution. A qubit state is a distribution over two values, similar to the coin flipping in the classical state. A major difference is that the entries are complex numbers and the normalization is in the $l_2$ norm. Create a function similar to `is_stochastic_vector` that checks whether a vector is a valid quantum state. The input is a numpy array and the output should be boolean."
   ]
  },
  {
   "cell_type": "code",
   "execution_count": 24,
   "metadata": {},
   "outputs": [],
   "source": [
    "import math\n",
    "\n",
    "def is_quantum_state(psi: np.array):\n",
    "    return (1 - np.sqrt(sum([abs(i)**2 for i in psi])) ) < 0.0001\n"
   ]
  },
  {
   "cell_type": "code",
   "execution_count": 25,
   "metadata": {
    "deletable": false,
    "editable": false,
    "nbgrader": {
     "grade": true,
     "grade_id": "exercise7",
     "locked": true,
     "points": "1",
     "solution": false
    }
   },
   "outputs": [],
   "source": [
    "assert is_quantum_state(np.array([1/np.sqrt(2), 1/np.sqrt(2)]))\n",
    "assert is_quantum_state(np.array([-1/np.sqrt(2), 1/np.sqrt(2)]))\n",
    "assert is_quantum_state(np.array([-1/3, 2*np.sqrt(2)/3]))\n",
    "assert is_quantum_state(np.array([-1j/3, 2*np.sqrt(2)/3]))\n",
    "assert not is_quantum_state(np.array([0.2, 0.8]))"
   ]
  },
  {
   "cell_type": "markdown",
   "metadata": {},
   "source": [
    "**Exercise 8** (1 point). While working with numpy arrays is convenient, it is better to use a framework designed for quantum computing, since it often allows us to execute a circuit directly on a quantum computer. In your preferred framework, implement a circuit of a single qubit with no operation on it. You should create it in an object called `circuit`. Do not add a measurement. The evaluation will automatically branch according to which framework you chose."
   ]
  },
  {
   "cell_type": "code",
   "execution_count": 46,
   "metadata": {
    "ExecuteTime": {
     "end_time": "2018-11-19T19:47:59.562010Z",
     "start_time": "2018-11-19T19:47:58.831645Z"
    }
   },
   "outputs": [
    {
     "data": {
      "image/svg+xml": [
       "<?xml version=\"1.0\" encoding=\"utf-8\" standalone=\"no\"?>\n",
       "<!DOCTYPE svg PUBLIC \"-//W3C//DTD SVG 1.1//EN\"\n",
       "  \"http://www.w3.org/Graphics/SVG/1.1/DTD/svg11.dtd\">\n",
       "<!-- Created with matplotlib (https://matplotlib.org/) -->\n",
       "<svg height=\"78.0314pt\" version=\"1.1\" viewBox=\"0 0 124.39142 78.0314\" width=\"124.39142pt\" xmlns=\"http://www.w3.org/2000/svg\" xmlns:xlink=\"http://www.w3.org/1999/xlink\">\n",
       " <defs>\n",
       "  <style type=\"text/css\">\n",
       "*{stroke-linecap:butt;stroke-linejoin:round;}\n",
       "  </style>\n",
       " </defs>\n",
       " <g id=\"figure_1\">\n",
       "  <g id=\"patch_1\">\n",
       "   <path d=\"M 0 78.0314 \n",
       "L 124.39142 78.0314 \n",
       "L 124.39142 0 \n",
       "L 0 0 \n",
       "z\n",
       "\" style=\"fill:#ffffff;\"/>\n",
       "  </g>\n",
       "  <g id=\"axes_1\">\n",
       "   <g id=\"line2d_1\">\n",
       "    <path clip-path=\"url(#pec45fb4e67)\" d=\"M 76.28552 43.5608 \n",
       "L 112.64632 43.5608 \n",
       "\" style=\"fill:none;stroke:#000000;stroke-linecap:square;stroke-width:2;\"/>\n",
       "   </g>\n",
       "   <g id=\"text_1\">\n",
       "    <g clip-path=\"url(#pec45fb4e67)\">\n",
       "     <!-- $qreg$ -->\n",
       "     <defs>\n",
       "      <path d=\"M 41.703125 8.203125 \n",
       "Q 38.09375 3.46875 33.171875 1.015625 \n",
       "Q 28.265625 -1.421875 22.3125 -1.421875 \n",
       "Q 14.015625 -1.421875 9.296875 4.171875 \n",
       "Q 4.59375 9.765625 4.59375 19.578125 \n",
       "Q 4.59375 27.484375 7.5 34.859375 \n",
       "Q 10.40625 42.234375 15.828125 48.09375 \n",
       "Q 19.34375 51.90625 23.90625 53.953125 \n",
       "Q 28.46875 56 33.5 56 \n",
       "Q 39.546875 56 43.453125 53.609375 \n",
       "Q 47.359375 51.21875 49.125 46.390625 \n",
       "L 50.6875 54.59375 \n",
       "L 59.71875 54.59375 \n",
       "L 45.125 -20.609375 \n",
       "L 36.078125 -20.609375 \n",
       "z\n",
       "M 13.921875 20.90625 \n",
       "Q 13.921875 13.671875 16.9375 9.890625 \n",
       "Q 19.96875 6.109375 25.6875 6.109375 \n",
       "Q 34.1875 6.109375 40.1875 14.234375 \n",
       "Q 46.1875 22.359375 46.1875 33.984375 \n",
       "Q 46.1875 41.015625 43.078125 44.75 \n",
       "Q 39.984375 48.484375 34.1875 48.484375 \n",
       "Q 29.9375 48.484375 26.3125 46.5 \n",
       "Q 22.703125 44.53125 20.015625 40.71875 \n",
       "Q 17.1875 36.71875 15.546875 31.34375 \n",
       "Q 13.921875 25.984375 13.921875 20.90625 \n",
       "z\n",
       "\" id=\"DejaVuSans-Oblique-113\"/>\n",
       "      <path d=\"M 44.578125 46.390625 \n",
       "Q 43.21875 47.125 41.453125 47.515625 \n",
       "Q 39.703125 47.90625 37.703125 47.90625 \n",
       "Q 30.515625 47.90625 25.140625 42.453125 \n",
       "Q 19.78125 37.015625 18.015625 27.875 \n",
       "L 12.5 0 \n",
       "L 3.515625 0 \n",
       "L 14.203125 54.6875 \n",
       "L 23.1875 54.6875 \n",
       "L 21.484375 46.1875 \n",
       "Q 25.046875 50.921875 30 53.453125 \n",
       "Q 34.96875 56 40.578125 56 \n",
       "Q 42.046875 56 43.453125 55.828125 \n",
       "Q 44.875 55.671875 46.296875 55.28125 \n",
       "z\n",
       "\" id=\"DejaVuSans-Oblique-114\"/>\n",
       "      <path d=\"M 48.09375 32.234375 \n",
       "Q 48.25 33.015625 48.3125 33.84375 \n",
       "Q 48.390625 34.671875 48.390625 35.5 \n",
       "Q 48.390625 41.453125 44.890625 44.921875 \n",
       "Q 41.40625 48.390625 35.40625 48.390625 \n",
       "Q 28.71875 48.390625 23.578125 44.15625 \n",
       "Q 18.453125 39.9375 15.828125 32.171875 \n",
       "z\n",
       "M 55.90625 25.203125 \n",
       "L 14.109375 25.203125 \n",
       "Q 13.8125 23.34375 13.71875 22.265625 \n",
       "Q 13.625 21.1875 13.625 20.40625 \n",
       "Q 13.625 13.625 17.796875 9.90625 \n",
       "Q 21.96875 6.203125 29.59375 6.203125 \n",
       "Q 35.453125 6.203125 40.671875 7.515625 \n",
       "Q 45.90625 8.84375 50.390625 11.375 \n",
       "L 48.6875 2.484375 \n",
       "Q 43.84375 0.53125 38.6875 -0.4375 \n",
       "Q 33.546875 -1.421875 28.21875 -1.421875 \n",
       "Q 16.84375 -1.421875 10.71875 4.015625 \n",
       "Q 4.59375 9.46875 4.59375 19.484375 \n",
       "Q 4.59375 28.03125 7.640625 35.375 \n",
       "Q 10.6875 42.71875 16.609375 48.484375 \n",
       "Q 20.40625 52.09375 25.65625 54.046875 \n",
       "Q 30.90625 56 36.8125 56 \n",
       "Q 46.09375 56 51.578125 50.4375 \n",
       "Q 57.078125 44.875 57.078125 35.5 \n",
       "Q 57.078125 33.25 56.78125 30.6875 \n",
       "Q 56.5 28.125 55.90625 25.203125 \n",
       "z\n",
       "\" id=\"DejaVuSans-Oblique-101\"/>\n",
       "      <path d=\"M 59.625 54.6875 \n",
       "L 50.296875 6.78125 \n",
       "Q 47.609375 -7.125 40.015625 -13.953125 \n",
       "Q 32.421875 -20.796875 19.578125 -20.796875 \n",
       "Q 14.84375 -20.796875 10.78125 -20.09375 \n",
       "Q 6.734375 -19.390625 3.21875 -17.921875 \n",
       "L 4.890625 -9.1875 \n",
       "Q 8.203125 -11.328125 11.90625 -12.34375 \n",
       "Q 15.625 -13.375 19.828125 -13.375 \n",
       "Q 28.375 -13.375 33.859375 -8.703125 \n",
       "Q 39.359375 -4.046875 41.109375 4.6875 \n",
       "L 41.890625 8.796875 \n",
       "Q 38.140625 4.5 33.15625 2.25 \n",
       "Q 28.171875 0 22.40625 0 \n",
       "Q 14.109375 0 9.34375 5.484375 \n",
       "Q 4.59375 10.984375 4.59375 20.609375 \n",
       "Q 4.59375 28.171875 7.46875 35.421875 \n",
       "Q 10.359375 42.671875 15.578125 48.296875 \n",
       "Q 19.046875 52 23.65625 54 \n",
       "Q 28.265625 56 33.296875 56 \n",
       "Q 38.8125 56 42.90625 53.4375 \n",
       "Q 47.015625 50.875 49.03125 46.1875 \n",
       "L 50.59375 54.6875 \n",
       "z\n",
       "M 46.09375 34.625 \n",
       "Q 46.09375 41.265625 42.96875 44.875 \n",
       "Q 39.84375 48.484375 34.078125 48.484375 \n",
       "Q 30.515625 48.484375 27.296875 47.0625 \n",
       "Q 24.078125 45.65625 21.78125 43.109375 \n",
       "Q 18.0625 38.921875 15.984375 33.234375 \n",
       "Q 13.921875 27.546875 13.921875 21.484375 \n",
       "Q 13.921875 14.75 17.0625 11.125 \n",
       "Q 20.21875 7.515625 26.125 7.515625 \n",
       "Q 34.671875 7.515625 40.375 15.25 \n",
       "Q 46.09375 23 46.09375 34.625 \n",
       "z\n",
       "\" id=\"DejaVuSans-Oblique-103\"/>\n",
       "     </defs>\n",
       "     <g transform=\"translate(20.73012 48.011777)scale(0.1625 -0.1625)\">\n",
       "      <use xlink:href=\"#DejaVuSans-Oblique-113\"/>\n",
       "      <use transform=\"translate(63.476562 0)\" xlink:href=\"#DejaVuSans-Oblique-114\"/>\n",
       "      <use transform=\"translate(104.589844 0)\" xlink:href=\"#DejaVuSans-Oblique-101\"/>\n",
       "      <use transform=\"translate(166.113281 0)\" xlink:href=\"#DejaVuSans-Oblique-103\"/>\n",
       "     </g>\n",
       "    </g>\n",
       "   </g>\n",
       "  </g>\n",
       " </g>\n",
       " <defs>\n",
       "  <clipPath id=\"pec45fb4e67\">\n",
       "   <rect height=\"63.6314\" width=\"109.99142\" x=\"7.2\" y=\"7.2\"/>\n",
       "  </clipPath>\n",
       " </defs>\n",
       "</svg>\n"
      ],
      "text/plain": [
       "<Figure size 145.684x84.28 with 1 Axes>"
      ]
     },
     "execution_count": 46,
     "metadata": {},
     "output_type": "execute_result"
    }
   ],
   "source": [
    "from qiskit import QuantumCircuit, QuantumRegister, ClassicalRegister\n",
    "%config InlineBackend.figure_format = 'svg' # For Jupyter Notebooks\n",
    "\n",
    "\n",
    "circuit = QuantumCircuit()\n",
    "qr = QuantumRegister(1,'qreg')\n",
    "\n",
    "circuit.add_register(qr)\n",
    "\n",
    "circuit.draw(output='mpl')\n"
   ]
  },
  {
   "cell_type": "code",
   "execution_count": 31,
   "metadata": {
    "deletable": false,
    "editable": false,
    "nbgrader": {
     "grade": true,
     "grade_id": "exercise8",
     "locked": true,
     "points": "1",
     "solution": false
    }
   },
   "outputs": [],
   "source": [
    "amplitudes = get_amplitudes(circuit)\n",
    "assert abs(amplitudes[0]-1.0) < 0.01"
   ]
  },
  {
   "cell_type": "markdown",
   "metadata": {},
   "source": [
    "**Exercise 9** (1 point). In the execution branching above, you see that we use the wavefunction simulator. This allows us to use the probability amplitudes as usual numpy arrays, as you can see above. If we ran the circuit on an actual quantum device, we would not be able to inspect the wavefunction, but we would have to rely on the statistics of measurements to understand what is happening in the circuit.\n",
    "\n",
    "Create a circuit in your preferred framework that creates an equal superposition in a qubit using a Hadamard gate. Again, the name of the object should be `circuit`. The evaluation will be based on measurement statistics. In this case, you should explicitly specify the measurement on the qubit"
   ]
  },
  {
   "cell_type": "code",
   "execution_count": 44,
   "metadata": {
    "ExecuteTime": {
     "end_time": "2018-11-19T19:47:59.567831Z",
     "start_time": "2018-11-19T19:47:59.563751Z"
    }
   },
   "outputs": [
    {
     "data": {
      "image/png": "[encoded data removed]",
      "text/plain": [
       "<Figure size 266.084x144.48 with 1 Axes>"
      ]
     },
     "execution_count": 44,
     "metadata": {},
     "output_type": "execute_result"
    }
   ],
   "source": [
    "cr = ClassicalRegister(1,'creg')\n",
    "circuit.add_register(cr)\n",
    "\n",
    "circuit.h(qr[0])\n",
    "circuit.measure(qr[0], cr[0])\n",
    "\n",
    "circuit.draw(output='mpl')\n"
   ]
  },
  {
   "cell_type": "code",
   "execution_count": 45,
   "metadata": {
    "deletable": false,
    "editable": false,
    "nbgrader": {
     "grade": true,
     "grade_id": "exercise9",
     "locked": true,
     "points": "1",
     "solution": false
    }
   },
   "outputs": [],
   "source": [
    "counts = get_counts(circuit)\n",
    "assert abs(counts['0']/100-.5) < 0.2"
   ]
  },
  {
   "cell_type": "markdown",
   "metadata": {},
   "source": [
    "**Exercise 10** (1 point). If you plotted the state before measurement on the Bloch sphere, it would have been on the equator halfway between the $|0\\rangle$ and $|1\\rangle$ states, and the tip of the X axis. If you apply the Hadamard on the $|1\\rangle$, it would have been the point on the opposite and of the X axis, since the resulting superposition would have had a -1 amplitude for $|1\\rangle$. The measurement statistics, however, would be identical. The negative sign plays a role in interference: for instance, applying a Hadamard again, would take you back to $|1\\rangle$. **Create the superposition after applying the Hadamard gate on $|1\\rangle$.** We will verify whether it picked up the phase. Do not include a measurement, since we will inspect the wavefunction."
   ]
  },
  {
   "cell_type": "code",
   "execution_count": 52,
   "metadata": {
    "ExecuteTime": {
     "end_time": "2018-11-19T19:48:00.622667Z",
     "start_time": "2018-11-19T19:48:00.379562Z"
    }
   },
   "outputs": [
    {
     "data": {
      "image/svg+xml": [
       "<?xml version=\"1.0\" encoding=\"utf-8\" standalone=\"no\"?>\n",
       "<!DOCTYPE svg PUBLIC \"-//W3C//DTD SVG 1.1//EN\"\n",
       "  \"http://www.w3.org/Graphics/SVG/1.1/DTD/svg11.dtd\">\n",
       "<!-- Created with matplotlib (https://matplotlib.org/) -->\n",
       "<svg height=\"78.0314pt\" version=\"1.1\" viewBox=\"0 0 281.65188 78.0314\" width=\"281.65188pt\" xmlns=\"http://www.w3.org/2000/svg\" xmlns:xlink=\"http://www.w3.org/1999/xlink\">\n",
       " <defs>\n",
       "  <style type=\"text/css\">\n",
       "*{stroke-linecap:butt;stroke-linejoin:round;}\n",
       "  </style>\n",
       " </defs>\n",
       " <g id=\"figure_1\">\n",
       "  <g id=\"patch_1\">\n",
       "   <path d=\"M 0 78.0314 \n",
       "L 281.65188 78.0314 \n",
       "L 281.65188 0 \n",
       "L 0 0 \n",
       "z\n",
       "\" style=\"fill:#ffffff;\"/>\n",
       "  </g>\n",
       "  <g id=\"axes_1\">\n",
       "   <g id=\"line2d_1\">\n",
       "    <path clip-path=\"url(#p15861f5705)\" d=\"M 51.74198 43.5608 \n",
       "L 269.90678 43.5608 \n",
       "\" style=\"fill:none;stroke:#000000;stroke-linecap:square;stroke-width:2;\"/>\n",
       "   </g>\n",
       "   <g id=\"patch_2\">\n",
       "    <path clip-path=\"url(#p15861f5705)\" d=\"M 119.350342 58.332375 \n",
       "L 193.208217 58.332375 \n",
       "L 193.208217 28.789225 \n",
       "L 119.350342 28.789225 \n",
       "z\n",
       "\" style=\"fill:#bb8bff;stroke:#bb8bff;stroke-linejoin:miter;stroke-width:1.5;\"/>\n",
       "   </g>\n",
       "   <g id=\"text_1\">\n",
       "    <g clip-path=\"url(#p15861f5705)\">\n",
       "     <!-- 0 -->\n",
       "     <defs>\n",
       "      <path d=\"M 31.78125 66.40625 \n",
       "Q 24.171875 66.40625 20.328125 58.90625 \n",
       "Q 16.5 51.421875 16.5 36.375 \n",
       "Q 16.5 21.390625 20.328125 13.890625 \n",
       "Q 24.171875 6.390625 31.78125 6.390625 \n",
       "Q 39.453125 6.390625 43.28125 13.890625 \n",
       "Q 47.125 21.390625 47.125 36.375 \n",
       "Q 47.125 51.421875 43.28125 58.90625 \n",
       "Q 39.453125 66.40625 31.78125 66.40625 \n",
       "z\n",
       "M 31.78125 74.21875 \n",
       "Q 44.046875 74.21875 50.515625 64.515625 \n",
       "Q 56.984375 54.828125 56.984375 36.375 \n",
       "Q 56.984375 17.96875 50.515625 8.265625 \n",
       "Q 44.046875 -1.421875 31.78125 -1.421875 \n",
       "Q 19.53125 -1.421875 13.0625 8.265625 \n",
       "Q 6.59375 17.96875 6.59375 36.375 \n",
       "Q 6.59375 54.828125 13.0625 64.515625 \n",
       "Q 19.53125 74.21875 31.78125 74.21875 \n",
       "z\n",
       "\" id=\"DejaVuSans-48\"/>\n",
       "     </defs>\n",
       "     <g transform=\"translate(123.043236 47.147987)scale(0.13 -0.13)\">\n",
       "      <use xlink:href=\"#DejaVuSans-48\"/>\n",
       "     </g>\n",
       "    </g>\n",
       "   </g>\n",
       "   <g id=\"text_2\">\n",
       "    <g clip-path=\"url(#p15861f5705)\">\n",
       "     <!-- |psi&gt; -->\n",
       "     <defs>\n",
       "      <path d=\"M 21 76.421875 \n",
       "L 21 -23.578125 \n",
       "L 12.703125 -23.578125 \n",
       "L 12.703125 76.421875 \n",
       "z\n",
       "\" id=\"DejaVuSans-124\"/>\n",
       "      <path d=\"M 18.109375 8.203125 \n",
       "L 18.109375 -20.796875 \n",
       "L 9.078125 -20.796875 \n",
       "L 9.078125 54.6875 \n",
       "L 18.109375 54.6875 \n",
       "L 18.109375 46.390625 \n",
       "Q 20.953125 51.265625 25.265625 53.625 \n",
       "Q 29.59375 56 35.59375 56 \n",
       "Q 45.5625 56 51.78125 48.09375 \n",
       "Q 58.015625 40.1875 58.015625 27.296875 \n",
       "Q 58.015625 14.40625 51.78125 6.484375 \n",
       "Q 45.5625 -1.421875 35.59375 -1.421875 \n",
       "Q 29.59375 -1.421875 25.265625 0.953125 \n",
       "Q 20.953125 3.328125 18.109375 8.203125 \n",
       "z\n",
       "M 48.6875 27.296875 \n",
       "Q 48.6875 37.203125 44.609375 42.84375 \n",
       "Q 40.53125 48.484375 33.40625 48.484375 \n",
       "Q 26.265625 48.484375 22.1875 42.84375 \n",
       "Q 18.109375 37.203125 18.109375 27.296875 \n",
       "Q 18.109375 17.390625 22.1875 11.75 \n",
       "Q 26.265625 6.109375 33.40625 6.109375 \n",
       "Q 40.53125 6.109375 44.609375 11.75 \n",
       "Q 48.6875 17.390625 48.6875 27.296875 \n",
       "z\n",
       "\" id=\"DejaVuSans-112\"/>\n",
       "      <path d=\"M 44.28125 53.078125 \n",
       "L 44.28125 44.578125 \n",
       "Q 40.484375 46.53125 36.375 47.5 \n",
       "Q 32.28125 48.484375 27.875 48.484375 \n",
       "Q 21.1875 48.484375 17.84375 46.4375 \n",
       "Q 14.5 44.390625 14.5 40.28125 \n",
       "Q 14.5 37.15625 16.890625 35.375 \n",
       "Q 19.28125 33.59375 26.515625 31.984375 \n",
       "L 29.59375 31.296875 \n",
       "Q 39.15625 29.25 43.1875 25.515625 \n",
       "Q 47.21875 21.78125 47.21875 15.09375 \n",
       "Q 47.21875 7.46875 41.1875 3.015625 \n",
       "Q 35.15625 -1.421875 24.609375 -1.421875 \n",
       "Q 20.21875 -1.421875 15.453125 -0.5625 \n",
       "Q 10.6875 0.296875 5.421875 2 \n",
       "L 5.421875 11.28125 \n",
       "Q 10.40625 8.6875 15.234375 7.390625 \n",
       "Q 20.0625 6.109375 24.8125 6.109375 \n",
       "Q 31.15625 6.109375 34.5625 8.28125 \n",
       "Q 37.984375 10.453125 37.984375 14.40625 \n",
       "Q 37.984375 18.0625 35.515625 20.015625 \n",
       "Q 33.0625 21.96875 24.703125 23.78125 \n",
       "L 21.578125 24.515625 \n",
       "Q 13.234375 26.265625 9.515625 29.90625 \n",
       "Q 5.8125 33.546875 5.8125 39.890625 \n",
       "Q 5.8125 47.609375 11.28125 51.796875 \n",
       "Q 16.75 56 26.8125 56 \n",
       "Q 31.78125 56 36.171875 55.265625 \n",
       "Q 40.578125 54.546875 44.28125 53.078125 \n",
       "z\n",
       "\" id=\"DejaVuSans-115\"/>\n",
       "      <path d=\"M 9.421875 54.6875 \n",
       "L 18.40625 54.6875 \n",
       "L 18.40625 0 \n",
       "L 9.421875 0 \n",
       "z\n",
       "M 9.421875 75.984375 \n",
       "L 18.40625 75.984375 \n",
       "L 18.40625 64.59375 \n",
       "L 9.421875 64.59375 \n",
       "z\n",
       "\" id=\"DejaVuSans-105\"/>\n",
       "      <path d=\"M 10.59375 49.21875 \n",
       "L 10.59375 58.109375 \n",
       "L 73.1875 35.40625 \n",
       "L 73.1875 27.296875 \n",
       "L 10.59375 4.59375 \n",
       "L 10.59375 13.484375 \n",
       "L 60.890625 31.296875 \n",
       "z\n",
       "\" id=\"DejaVuSans-62\"/>\n",
       "     </defs>\n",
       "     <g transform=\"translate(139.324436 32.224069)scale(0.13 -0.13)\">\n",
       "      <use xlink:href=\"#DejaVuSans-124\"/>\n",
       "      <use x=\"33.691406\" xlink:href=\"#DejaVuSans-112\"/>\n",
       "      <use x=\"97.167969\" xlink:href=\"#DejaVuSans-115\"/>\n",
       "      <use x=\"149.267578\" xlink:href=\"#DejaVuSans-105\"/>\n",
       "      <use x=\"177.050781\" xlink:href=\"#DejaVuSans-62\"/>\n",
       "     </g>\n",
       "    </g>\n",
       "   </g>\n",
       "   <g id=\"text_3\">\n",
       "    <g clip-path=\"url(#p15861f5705)\">\n",
       "     <!-- [0, 1] -->\n",
       "     <defs>\n",
       "      <path d=\"M 8.59375 75.984375 \n",
       "L 29.296875 75.984375 \n",
       "L 29.296875 69 \n",
       "L 17.578125 69 \n",
       "L 17.578125 -6.203125 \n",
       "L 29.296875 -6.203125 \n",
       "L 29.296875 -13.1875 \n",
       "L 8.59375 -13.1875 \n",
       "z\n",
       "\" id=\"DejaVuSans-91\"/>\n",
       "      <path d=\"M 11.71875 12.40625 \n",
       "L 22.015625 12.40625 \n",
       "L 22.015625 4 \n",
       "L 14.015625 -11.625 \n",
       "L 7.71875 -11.625 \n",
       "L 11.71875 4 \n",
       "z\n",
       "\" id=\"DejaVuSans-44\"/>\n",
       "      <path id=\"DejaVuSans-32\"/>\n",
       "      <path d=\"M 12.40625 8.296875 \n",
       "L 28.515625 8.296875 \n",
       "L 28.515625 63.921875 \n",
       "L 10.984375 60.40625 \n",
       "L 10.984375 69.390625 \n",
       "L 28.421875 72.90625 \n",
       "L 38.28125 72.90625 \n",
       "L 38.28125 8.296875 \n",
       "L 54.390625 8.296875 \n",
       "L 54.390625 0 \n",
       "L 12.40625 0 \n",
       "z\n",
       "\" id=\"DejaVuSans-49\"/>\n",
       "      <path d=\"M 30.421875 75.984375 \n",
       "L 30.421875 -13.1875 \n",
       "L 9.71875 -13.1875 \n",
       "L 9.71875 -6.203125 \n",
       "L 21.390625 -6.203125 \n",
       "L 21.390625 69 \n",
       "L 9.71875 69 \n",
       "L 9.71875 75.984375 \n",
       "z\n",
       "\" id=\"DejaVuSans-93\"/>\n",
       "     </defs>\n",
       "     <g transform=\"translate(145.52553 36.905355)scale(0.08 -0.08)\">\n",
       "      <use xlink:href=\"#DejaVuSans-91\"/>\n",
       "      <use x=\"39.013672\" xlink:href=\"#DejaVuSans-48\"/>\n",
       "      <use x=\"102.636719\" xlink:href=\"#DejaVuSans-44\"/>\n",
       "      <use x=\"134.423828\" xlink:href=\"#DejaVuSans-32\"/>\n",
       "      <use x=\"166.210938\" xlink:href=\"#DejaVuSans-49\"/>\n",
       "      <use x=\"229.833984\" xlink:href=\"#DejaVuSans-93\"/>\n",
       "     </g>\n",
       "    </g>\n",
       "   </g>\n",
       "   <g id=\"text_4\">\n",
       "    <g clip-path=\"url(#p15861f5705)\">\n",
       "     <!-- $q$ -->\n",
       "     <defs>\n",
       "      <path d=\"M 41.703125 8.203125 \n",
       "Q 38.09375 3.46875 33.171875 1.015625 \n",
       "Q 28.265625 -1.421875 22.3125 -1.421875 \n",
       "Q 14.015625 -1.421875 9.296875 4.171875 \n",
       "Q 4.59375 9.765625 4.59375 19.578125 \n",
       "Q 4.59375 27.484375 7.5 34.859375 \n",
       "Q 10.40625 42.234375 15.828125 48.09375 \n",
       "Q 19.34375 51.90625 23.90625 53.953125 \n",
       "Q 28.46875 56 33.5 56 \n",
       "Q 39.546875 56 43.453125 53.609375 \n",
       "Q 47.359375 51.21875 49.125 46.390625 \n",
       "L 50.6875 54.59375 \n",
       "L 59.71875 54.59375 \n",
       "L 45.125 -20.609375 \n",
       "L 36.078125 -20.609375 \n",
       "z\n",
       "M 13.921875 20.90625 \n",
       "Q 13.921875 13.671875 16.9375 9.890625 \n",
       "Q 19.96875 6.109375 25.6875 6.109375 \n",
       "Q 34.1875 6.109375 40.1875 14.234375 \n",
       "Q 46.1875 22.359375 46.1875 33.984375 \n",
       "Q 46.1875 41.015625 43.078125 44.75 \n",
       "Q 39.984375 48.484375 34.1875 48.484375 \n",
       "Q 29.9375 48.484375 26.3125 46.5 \n",
       "Q 22.703125 44.53125 20.015625 40.71875 \n",
       "Q 17.1875 36.71875 15.546875 31.34375 \n",
       "Q 13.921875 25.984375 13.921875 20.90625 \n",
       "z\n",
       "\" id=\"DejaVuSans-Oblique-113\"/>\n",
       "     </defs>\n",
       "     <g transform=\"translate(23.16158 48.011777)scale(0.1625 -0.1625)\">\n",
       "      <use xlink:href=\"#DejaVuSans-Oblique-113\"/>\n",
       "     </g>\n",
       "    </g>\n",
       "   </g>\n",
       "  </g>\n",
       " </g>\n",
       " <defs>\n",
       "  <clipPath id=\"p15861f5705\">\n",
       "   <rect height=\"63.6314\" width=\"267.25188\" x=\"7.2\" y=\"7.2\"/>\n",
       "  </clipPath>\n",
       " </defs>\n",
       "</svg>\n"
      ],
      "text/plain": [
       "<Figure size 353.976x84.28 with 1 Axes>"
      ]
     },
     "execution_count": 52,
     "metadata": {},
     "output_type": "execute_result"
    }
   ],
   "source": [
    "circuit = QuantumCircuit(1)\n",
    "\n",
    "initial_state = [0,1]   # Define initial_state as |1>\n",
    "circuit.initialize([0,1], 0) # Apply initialisation operation to the 0th qubit\n",
    "\n",
    "# circuit.h(qr[0])\n",
    "\n",
    "circuit.draw(output='mpl')\n"
   ]
  },
  {
   "cell_type": "code",
   "execution_count": null,
   "metadata": {
    "collapsed": true,
    "deletable": false,
    "editable": false,
    "jupyter": {
     "outputs_hidden": true
    },
    "nbgrader": {
     "grade": true,
     "grade_id": "exercise10",
     "locked": true,
     "points": "1",
     "solution": false
    }
   },
   "outputs": [],
   "source": [
    "amplitudes = get_amplitudes(circuit)\n",
    "assert abs(amplitudes[1]+np.sqrt(2)/2) < 0.01"
   ]
  },
  {
   "cell_type": "markdown",
   "metadata": {},
   "source": [
    "# More qubits and entanglement\n",
    "\n",
    "**Exercise 11** (1 point). To get a sense of multiqubit states, it is important to be confident with the tensor product operation. Create a function that returns the four basis vectors, $|00\\rangle$, $|01\\rangle$, $|10\\rangle$, and $|11\\rangle$, of the tensor product space $\\mathbb{C}^2\\otimes\\mathbb{C}^2$. The order in which they appear does not matter. The return value should be a list of four numpy arrays."
   ]
  },
  {
   "cell_type": "code",
   "execution_count": null,
   "metadata": {
    "ExecuteTime": {
     "end_time": "2018-11-19T19:48:00.928395Z",
     "start_time": "2018-11-19T19:48:00.913259Z"
    },
    "collapsed": true,
    "jupyter": {
     "outputs_hidden": true
    }
   },
   "outputs": [],
   "source": [
    "def create_canonical_basis():\n",
    "    ###\n",
    "    ### YOUR CODE HERE\n",
    "    ###\n"
   ]
  },
  {
   "cell_type": "code",
   "execution_count": null,
   "metadata": {
    "collapsed": true,
    "deletable": false,
    "editable": false,
    "jupyter": {
     "outputs_hidden": true
    },
    "nbgrader": {
     "grade": true,
     "grade_id": "exercise11",
     "locked": true,
     "points": "1",
     "solution": false
    }
   },
   "outputs": [],
   "source": [
    "basis = create_canonical_basis()\n",
    "assert len(basis) == 4\n",
    "if basis[0].shape != (4, ):\n",
    "    basis = [basis_vector.reshape((4, )) for basis_vector in basis]\n",
    "###\n",
    "### AUTOGRADER TEST - DO NOT REMOVE\n",
    "###\n"
   ]
  },
  {
   "cell_type": "markdown",
   "metadata": {},
   "source": [
    "**Exercise 12** (1 point). A generic product state has the form  $\\begin{bmatrix}a_0b_0\\\\ a_0b_1\\\\ a_1b_0\\\\ a_1b_1\\end{bmatrix}=a_0b_0|00\\rangle + a_0b_1|01\\rangle + a_1b_0|10\\rangle + a_1b_1|11\\rangle$ on $\\mathbb{C}^2\\otimes\\mathbb{C}^2$, but not all. We can use the basis vectors to form vectors in the space that do not have a product structure. These are entangled states that show strong correlations. Entanglement is an important resource in quantum computing and being able to create a circuit that generates an entangled state is critical. Implement a circuit in your preferred framework to create the $|\\phi^-\\rangle = \\frac{1}{\\sqrt{2}}(|00\\rangle-|11\\rangle)$ state, that is, almost the same as the $|\\phi^+\\rangle$ state, but with the opposite sign of the probability amplitude of $|11\\rangle$. Do not include a measurement, as we will verify the state with the wavefunction simulator"
   ]
  },
  {
   "cell_type": "code",
   "execution_count": null,
   "metadata": {
    "ExecuteTime": {
     "end_time": "2018-11-19T19:48:01.146195Z",
     "start_time": "2018-11-19T19:48:00.930859Z"
    },
    "collapsed": true,
    "jupyter": {
     "outputs_hidden": true
    }
   },
   "outputs": [],
   "source": [
    "###\n",
    "### YOUR CODE HERE\n",
    "###\n"
   ]
  },
  {
   "cell_type": "code",
   "execution_count": null,
   "metadata": {
    "collapsed": true,
    "deletable": false,
    "editable": false,
    "jupyter": {
     "outputs_hidden": true
    },
    "nbgrader": {
     "grade": true,
     "grade_id": "exercise12",
     "locked": true,
     "points": "1",
     "solution": false
    }
   },
   "outputs": [],
   "source": [
    "amplitudes = get_amplitudes(circuit)\n",
    "assert np.allclose(np.array([np.sqrt(2)/2, 0, 0, -np.sqrt(2)/2]), amplitudes)"
   ]
  },
  {
   "cell_type": "code",
   "execution_count": null,
   "metadata": {
    "collapsed": true,
    "jupyter": {
     "outputs_hidden": true
    }
   },
   "outputs": [],
   "source": []
  }
 ],
 "metadata": {
  "kernelspec": {
   "display_name": "Python 3",
   "language": "python",
   "name": "python3"
  },
  "language_info": {
   "codemirror_mode": {
    "name": "ipython",
    "version": 3
   },
   "file_extension": ".py",
   "mimetype": "text/x-python",
   "name": "python",
   "nbconvert_exporter": "python",
   "pygments_lexer": "ipython3",
   "version": "3.7.5"
  }
 },
 "nbformat": 4,
 "nbformat_minor": 4
}
